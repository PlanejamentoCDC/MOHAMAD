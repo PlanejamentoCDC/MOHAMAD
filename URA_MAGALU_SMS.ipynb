{
 "cells": [
  {
   "cell_type": "code",
   "execution_count": 1,
   "metadata": {},
   "outputs": [],
   "source": [
    "import pandas as pd\n",
    "import requests\n",
    "import csv\n",
    "from selenium import webdriver\n",
    "from selenium.webdriver.common.keys import Keys\n",
    "from selenium.webdriver.support.ui import Select\n",
    "import time\n",
    "import os"
   ]
  },
  {
   "cell_type": "code",
   "execution_count": 2,
   "metadata": {},
   "outputs": [],
   "source": [
    "# TROCAR O DIA ########################################################################################\n",
    "# O Path aponta para um arquivo teste local, para automação total desse processo, será implementado mais uma parcela de código\n",
    "# no DataBricks \n",
    "\n",
    "path = \"C:\\\\Users\\\\mohamad.nasser\\\\Desktop\\\\ROTINAS\\\\URA_MAGALU\\\\2021\\\\MAR\\\\31\\\\MAGALU_SMS_31_03_2021.csv\"\n",
    "url = \"https://www.zenvia360.com.br/system/bulkFileUpload.do?dispatch=openPage\"\n",
    "browser = webdriver.Chrome()\n",
    "browser.maximize_window()\n",
    "browser.get(url) \n",
    "time.sleep(10)\n",
    "\n",
    "acc = 'mobly.teste'\n",
    "mail = 'mohamad.nasser@mobly.com.br'\n",
    "password = 'Mohamad123'\n",
    "\n",
    "browser.find_element_by_id(\"account\").send_keys(acc)\n",
    "browser.find_element_by_id(\"username\").send_keys(mail)\n",
    "browser.find_element_by_id(\"password\").send_keys(password)\n",
    "\n",
    "\n",
    "browser.find_element_by_id(\"entrar\").click()\n",
    "\n",
    "browser.get(url) \n",
    "time.sleep(10)\n",
    "\n",
    "select = Select(browser.find_element_by_name('converterAbvName'))\n",
    "select.select_by_value('D')\n",
    "\n",
    "browser.find_element_by_name('files').send_keys(path)\n",
    "browser.find_element_by_name('button').click()\n",
    "browser.find_element_by_name('a').click()\n",
    "time.sleep(5)\n",
    "browser.find_element_by_xpath(\"//input[@value='Sim']\").click()"
   ]
  },
  {
   "cell_type": "code",
   "execution_count": null,
   "metadata": {},
   "outputs": [],
   "source": []
  },
  {
   "cell_type": "code",
   "execution_count": null,
   "metadata": {},
   "outputs": [],
   "source": []
  }
 ],
 "metadata": {
  "kernelspec": {
   "display_name": "Python 3",
   "language": "python",
   "name": "python3"
  },
  "language_info": {
   "codemirror_mode": {
    "name": "ipython",
    "version": 3
   },
   "file_extension": ".py",
   "mimetype": "text/x-python",
   "name": "python",
   "nbconvert_exporter": "python",
   "pygments_lexer": "ipython3",
   "version": "3.8.3"
  }
 },
 "nbformat": 4,
 "nbformat_minor": 4
}
